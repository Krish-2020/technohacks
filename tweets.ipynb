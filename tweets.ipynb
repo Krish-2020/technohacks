{
 "cells": [
  {
   "cell_type": "code",
   "execution_count": 2,
   "metadata": {},
   "outputs": [],
   "source": [
    "import pandas as pd\n",
    "from textblob import TextBlob\n"
   ]
  },
  {
   "cell_type": "code",
   "execution_count": 3,
   "metadata": {},
   "outputs": [],
   "source": [
    "# Replace 'your_dataset.csv' with the actual path to your dataset file\n",
    "data = pd.read_csv(r'D:\\git\\Social Media Sentiment Analysis\\Tweets.csv')\n"
   ]
  },
  {
   "cell_type": "code",
   "execution_count": 14,
   "metadata": {},
   "outputs": [],
   "source": [
    "def get_sentiment(text):\n",
    "    analysis = TextBlob(text)\n",
    "    # Determine polarity of the sentiment (ranges from -1 to 1, where -1 is negative, 0 is neutral, and 1 is positive)\n",
    "    sentiment_polarity = analysis.sentiment.polarity\n",
    "    if sentiment_polarity > 0:\n",
    "        return 'positive'\n",
    "    elif sentiment_polarity == 0:\n",
    "        return 'neutral'\n",
    "    else:\n",
    "        return 'negative'\n",
    "\n",
    "# Apply sentiment analysis to the text column of the DataFrame\n",
    "data['sentiment'] = data['text'].apply(get_sentiment)\n",
    "\n",
    "\n"
   ]
  },
  {
   "cell_type": "code",
   "execution_count": 15,
   "metadata": {},
   "outputs": [
    {
     "name": "stdout",
     "output_type": "stream",
     "text": [
      "       tweet_id airline_sentiment  airline_sentiment_confidence  \\\n",
      "0  5.703060e+17           neutral                        1.0000   \n",
      "1  5.703010e+17          positive                        0.3486   \n",
      "2  5.703010e+17           neutral                        0.6837   \n",
      "3  5.703010e+17          negative                        1.0000   \n",
      "4  5.703010e+17          negative                        1.0000   \n",
      "\n",
      "  negativereason  negativereason_confidence         airline  \\\n",
      "0            NaN                        NaN  Virgin America   \n",
      "1            NaN                     0.0000  Virgin America   \n",
      "2            NaN                        NaN  Virgin America   \n",
      "3     Bad Flight                     0.7033  Virgin America   \n",
      "4     Can't Tell                     1.0000  Virgin America   \n",
      "\n",
      "  airline_sentiment_gold        name negativereason_gold  retweet_count  \\\n",
      "0                    NaN     cairdin                 NaN              0   \n",
      "1                    NaN    jnardino                 NaN              0   \n",
      "2                    NaN  yvonnalynn                 NaN              0   \n",
      "3                    NaN    jnardino                 NaN              0   \n",
      "4                    NaN    jnardino                 NaN              0   \n",
      "\n",
      "                                                text tweet_coord  \\\n",
      "0                @VirginAmerica What @dhepburn said.         NaN   \n",
      "1  @VirginAmerica plus you've added commercials t...         NaN   \n",
      "2  @VirginAmerica I didn't today... Must mean I n...         NaN   \n",
      "3  @VirginAmerica it's really aggressive to blast...         NaN   \n",
      "4  @VirginAmerica and it's a really big bad thing...         NaN   \n",
      "\n",
      "      tweet_created tweet_location               user_timezone sentiment  \n",
      "0  24-02-2015 11:35            NaN  Eastern Time (US & Canada)   neutral  \n",
      "1  24-02-2015 11:15            NaN  Pacific Time (US & Canada)   neutral  \n",
      "2  24-02-2015 11:15      Lets Play  Central Time (US & Canada)  negative  \n",
      "3  24-02-2015 11:15            NaN  Pacific Time (US & Canada)  positive  \n",
      "4  24-02-2015 11:14            NaN  Pacific Time (US & Canada)  negative  \n"
     ]
    }
   ],
   "source": [
    "# Display the DataFrame with sentiment analysis results\n",
    "print(data.head())"
   ]
  }
 ],
 "metadata": {
  "kernelspec": {
   "display_name": "Python 3",
   "language": "python",
   "name": "python3"
  },
  "language_info": {
   "codemirror_mode": {
    "name": "ipython",
    "version": 3
   },
   "file_extension": ".py",
   "mimetype": "text/x-python",
   "name": "python",
   "nbconvert_exporter": "python",
   "pygments_lexer": "ipython3",
   "version": "3.11.4"
  },
  "orig_nbformat": 4
 },
 "nbformat": 4,
 "nbformat_minor": 2
}
